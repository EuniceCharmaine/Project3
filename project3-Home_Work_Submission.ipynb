{
 "cells": [
  {
   "cell_type": "markdown",
   "metadata": {},
   "source": [
    "# Project 3\n",
    "\n",
    "In this project, you will perform a logistic regression on the admissions data we've been working with in projects 1 and 2."
   ]
  },
  {
   "cell_type": "code",
   "execution_count": 534,
   "metadata": {},
   "outputs": [],
   "source": [
    "%matplotlib inline\n",
    "import matplotlib.pyplot as plt\n",
    "import pandas as pd\n",
    "import statsmodels.api as sm\n",
    "import pylab as pl\n",
    "import numpy as np\n",
    "import statsmodels.api as sm\n",
    "from sklearn.model_selection import train_test_split\n",
    "from sklearn.linear_model import LogisticRegression\n",
    "from sklearn.metrics import confusion_matrix\n",
    "from sklearn.metrics import roc_curve, roc_auc_score"
   ]
  },
  {
   "cell_type": "code",
   "execution_count": 535,
   "metadata": {},
   "outputs": [],
   "source": [
    "df_raw = pd.read_csv(\"C:/Users/AMKT086/Documents/Data Science Course/Notes & Homework/unit-project-03/assets/admissions.csv\")"
   ]
  },
  {
   "cell_type": "code",
   "execution_count": 536,
   "metadata": {},
   "outputs": [
    {
     "name": "stdout",
     "output_type": "stream",
     "text": [
      "<class 'pandas.core.frame.DataFrame'>\n",
      "RangeIndex: 400 entries, 0 to 399\n",
      "Data columns (total 4 columns):\n",
      "admit       400 non-null int64\n",
      "gre         398 non-null float64\n",
      "gpa         398 non-null float64\n",
      "prestige    399 non-null float64\n",
      "dtypes: float64(3), int64(1)\n",
      "memory usage: 12.6 KB\n"
     ]
    }
   ],
   "source": [
    "df_raw.info()"
   ]
  },
  {
   "cell_type": "code",
   "execution_count": 537,
   "metadata": {},
   "outputs": [
    {
     "name": "stdout",
     "output_type": "stream",
     "text": [
      "            admit         gre        gpa    prestige\n",
      "count  400.000000  398.000000  398.00000  399.000000\n",
      "mean     0.317500  588.040201    3.39093    2.486216\n",
      "std      0.466087  115.628513    0.38063    0.945333\n",
      "min      0.000000  220.000000    2.26000    1.000000\n",
      "25%      0.000000  520.000000    3.13000    2.000000\n",
      "50%      0.000000  580.000000    3.39500    2.000000\n",
      "75%      1.000000  660.000000    3.67000    3.000000\n",
      "max      1.000000  800.000000    4.00000    4.000000\n"
     ]
    }
   ],
   "source": [
    "#2. Summary Statistics & Looking at the data\n",
    "# summarize the data\n",
    "print(df_raw.describe())"
   ]
  },
  {
   "cell_type": "code",
   "execution_count": 538,
   "metadata": {},
   "outputs": [
    {
     "name": "stdout",
     "output_type": "stream",
     "text": [
      "admit         0.466087\n",
      "gre         115.628513\n",
      "gpa           0.380630\n",
      "prestige      0.945333\n",
      "dtype: float64\n"
     ]
    }
   ],
   "source": [
    "# take a look at the standard deviation of each column\n",
    "print(df_raw.std())"
   ]
  },
  {
   "cell_type": "code",
   "execution_count": 539,
   "metadata": {},
   "outputs": [
    {
     "name": "stdout",
     "output_type": "stream",
     "text": [
      "   admit    gre   gpa  prestige\n",
      "0      0  380.0  3.61       3.0\n",
      "1      1  660.0  3.67       3.0\n",
      "2      1  800.0  4.00       1.0\n",
      "3      1  640.0  3.19       4.0\n",
      "4      0  520.0  2.93       4.0\n"
     ]
    }
   ],
   "source": [
    "#Drop NA\n",
    "df = df_raw.dropna() \n",
    "print(df.head())"
   ]
  },
  {
   "cell_type": "code",
   "execution_count": 540,
   "metadata": {},
   "outputs": [
    {
     "data": {
      "image/png": "[encoded data removed]",
      "text/plain": [
       "<matplotlib.figure.Figure at 0xc728048>"
      ]
     },
     "metadata": {},
     "output_type": "display_data"
    }
   ],
   "source": [
    "# plot all of the columns, better visualization\n",
    "df.hist()\n",
    "pl.show()"
   ]
  },
  {
   "cell_type": "markdown",
   "metadata": {},
   "source": [
    "## Part 1. Frequency Tables\n",
    "\n",
    "#### 1. Let's create a frequency table of our variables"
   ]
  },
  {
   "cell_type": "code",
   "execution_count": 541,
   "metadata": {},
   "outputs": [
    {
     "name": "stdout",
     "output_type": "stream",
     "text": [
      "prestige  1.0  2.0  3.0  4.0\n",
      "admit                       \n",
      "0          28   95   93   55\n",
      "1          33   53   28   12\n"
     ]
    }
   ],
   "source": [
    "# frequency table for prestige and whether or not someone was admitted\n",
    "table = pd.crosstab(df['admit'], df['prestige'], rownames=['admit'])\n",
    "\n",
    "#table = pd.crosstab(index=df['admit'], columns=df['prestige'])\n",
    "print(table)"
   ]
  },
  {
   "cell_type": "markdown",
   "metadata": {},
   "source": [
    "## Part 2. Return of dummy variables"
   ]
  },
  {
   "cell_type": "markdown",
   "metadata": {},
   "source": [
    "#### 2.1 Create class or dummy variables for prestige "
   ]
  },
  {
   "cell_type": "code",
   "execution_count": 542,
   "metadata": {},
   "outputs": [
    {
     "name": "stdout",
     "output_type": "stream",
     "text": [
      "<class 'pandas.core.frame.DataFrame'>\n",
      "Int64Index: 397 entries, 0 to 399\n",
      "Data columns (total 4 columns):\n",
      "admit       397 non-null int64\n",
      "gre         397 non-null float64\n",
      "gpa         397 non-null float64\n",
      "prestige    397 non-null float64\n",
      "dtypes: float64(3), int64(1)\n",
      "memory usage: 15.5 KB\n",
      "   admit    gre   gpa  prestige  1.0  2.0  3.0  4.0\n",
      "0      0  380.0  3.61       3.0    0    0    1    0\n",
      "1      1  660.0  3.67       3.0    0    0    1    0\n",
      "2      1  800.0  4.00       1.0    1    0    0    0\n",
      "3      1  640.0  3.19       4.0    0    0    0    1\n",
      "4      0  520.0  2.93       4.0    0    0    0    1\n"
     ]
    },
    {
     "data": {
      "text/html": [
       "<div>\n",
       "<style scoped>\n",
       "    .dataframe tbody tr th:only-of-type {\n",
       "        vertical-align: middle;\n",
       "    }\n",
       "\n",
       "    .dataframe tbody tr th {\n",
       "        vertical-align: top;\n",
       "    }\n",
       "\n",
       "    .dataframe thead th {\n",
       "        text-align: right;\n",
       "    }\n",
       "</style>\n",
       "<table border=\"1\" class=\"dataframe\">\n",
       "  <thead>\n",
       "    <tr style=\"text-align: right;\">\n",
       "      <th></th>\n",
       "      <th>admit</th>\n",
       "      <th>gre</th>\n",
       "      <th>gpa</th>\n",
       "      <th>1.0</th>\n",
       "      <th>2.0</th>\n",
       "      <th>3.0</th>\n",
       "      <th>4.0</th>\n",
       "    </tr>\n",
       "  </thead>\n",
       "  <tbody>\n",
       "    <tr>\n",
       "      <th>0</th>\n",
       "      <td>0</td>\n",
       "      <td>380.0</td>\n",
       "      <td>3.61</td>\n",
       "      <td>0</td>\n",
       "      <td>0</td>\n",
       "      <td>1</td>\n",
       "      <td>0</td>\n",
       "    </tr>\n",
       "    <tr>\n",
       "      <th>1</th>\n",
       "      <td>1</td>\n",
       "      <td>660.0</td>\n",
       "      <td>3.67</td>\n",
       "      <td>0</td>\n",
       "      <td>0</td>\n",
       "      <td>1</td>\n",
       "      <td>0</td>\n",
       "    </tr>\n",
       "    <tr>\n",
       "      <th>2</th>\n",
       "      <td>1</td>\n",
       "      <td>800.0</td>\n",
       "      <td>4.00</td>\n",
       "      <td>1</td>\n",
       "      <td>0</td>\n",
       "      <td>0</td>\n",
       "      <td>0</td>\n",
       "    </tr>\n",
       "    <tr>\n",
       "      <th>3</th>\n",
       "      <td>1</td>\n",
       "      <td>640.0</td>\n",
       "      <td>3.19</td>\n",
       "      <td>0</td>\n",
       "      <td>0</td>\n",
       "      <td>0</td>\n",
       "      <td>1</td>\n",
       "    </tr>\n",
       "    <tr>\n",
       "      <th>4</th>\n",
       "      <td>0</td>\n",
       "      <td>520.0</td>\n",
       "      <td>2.93</td>\n",
       "      <td>0</td>\n",
       "      <td>0</td>\n",
       "      <td>0</td>\n",
       "      <td>1</td>\n",
       "    </tr>\n",
       "  </tbody>\n",
       "</table>\n",
       "</div>"
      ],
      "text/plain": [
       "   admit    gre   gpa  1.0  2.0  3.0  4.0\n",
       "0      0  380.0  3.61    0    0    1    0\n",
       "1      1  660.0  3.67    0    0    1    0\n",
       "2      1  800.0  4.00    1    0    0    0\n",
       "3      1  640.0  3.19    0    0    0    1\n",
       "4      0  520.0  2.93    0    0    0    1"
      ]
     },
     "execution_count": 542,
     "metadata": {},
     "output_type": "execute_result"
    }
   ],
   "source": [
    "#Check dataset info\n",
    "df.info()\n",
    "\n",
    "#Create dummy variables for prestige\n",
    "df = df.join(pd.get_dummies(df['prestige']))\n",
    "print(df.head())\n",
    "\n",
    "#Drop original prestige level - not require anymore\n",
    "df_clean = df.drop(columns = ['prestige'])\n",
    "df_clean.head(5)"
   ]
  },
  {
   "cell_type": "markdown",
   "metadata": {},
   "source": [
    "#### 2.2 When modeling our class variables, how many do we need? \n",
    "\n"
   ]
  },
  {
   "cell_type": "markdown",
   "metadata": {},
   "source": [
    "Answer: We need 4 variables"
   ]
  },
  {
   "cell_type": "markdown",
   "metadata": {},
   "source": [
    "## Part 3. Hand calculating odds ratios\n",
    "\n",
    "Develop your intuition about expected outcomes by hand calculating odds ratios."
   ]
  },
  {
   "cell_type": "code",
   "execution_count": 543,
   "metadata": {},
   "outputs": [
    {
     "name": "stdout",
     "output_type": "stream",
     "text": [
      "   admit    gre   gpa  prestige_2.0  prestige_3.0  prestige_4.0\n",
      "0      0  380.0  3.61             0             0             0\n",
      "1      1  660.0  3.67             1             0             0\n",
      "2      1  800.0  4.00             0             1             0\n",
      "3      1  640.0  3.19             0             0             1\n",
      "4      0  520.0  2.93             0             0             0\n"
     ]
    }
   ],
   "source": [
    "cols_to_keep = ['admit', 'gre', 'gpa']\n",
    "handCalc = df[cols_to_keep].join(dummy_ranks.ix[:, 'prestige_2':])\n",
    "print(handCalc.head())"
   ]
  },
  {
   "cell_type": "code",
   "execution_count": 544,
   "metadata": {},
   "outputs": [
    {
     "name": "stdout",
     "output_type": "stream",
     "text": [
      "admit      0   1\n",
      "prestige        \n",
      "1.0       28  33\n"
     ]
    }
   ],
   "source": [
    "#crosstab prestige 1 admission \n",
    "#frequency table cutting prestige and whether or not someone was admitted\n",
    "\n",
    "#Filter by prestige == 1.0\n",
    "df_prestige1 = df.loc[(df['prestige'] == 1.0) ]\n",
    "df_prestige1.head()   \n",
    "\n",
    "#Filter only admit and prestige columns\n",
    "df_prestige_admit = df_prestige1[['admit','prestige']]\n",
    "df_prestige_admit.head()\n",
    "\n",
    "#Aggregate table for prestige 1, admit 1 and 0.\n",
    "df_prestige_admit_tab = pd.crosstab(index=df_prestige_admit[\"prestige\"],columns=df_prestige_admit[\"admit\"])     \n",
    "print (df_prestige_admit_tab)"
   ]
  },
  {
   "cell_type": "markdown",
   "metadata": {},
   "source": [
    "#### 3.1 Use the cross tab above to calculate the odds of being admitted to grad school if you attended a #1 ranked college"
   ]
  },
  {
   "cell_type": "code",
   "execution_count": 115,
   "metadata": {},
   "outputs": [],
   "source": [
    "#Summary: There are total of 33/61(54%) admission from prestige 1."
   ]
  },
  {
   "cell_type": "markdown",
   "metadata": {},
   "source": [
    "#### 3.2 Now calculate the odds of admission if you did not attend a #1 ranked college"
   ]
  },
  {
   "cell_type": "code",
   "execution_count": 545,
   "metadata": {},
   "outputs": [
    {
     "name": "stdout",
     "output_type": "stream",
     "text": [
      "admit      0   1\n",
      "prestige        \n",
      "2.0       95  53\n",
      "admit      0   1\n",
      "prestige        \n",
      "3.0       93  28\n",
      "admit      0   1\n",
      "prestige        \n",
      "4.0       55  12\n"
     ]
    }
   ],
   "source": [
    "#Prestige 2\n",
    "#Filter by prestige == 2.0\n",
    "df_prestige2 = df.loc[(df['prestige'] == 2.0) ]\n",
    "df_prestige2.head() \n",
    "#Filter only admit and prestige columns\n",
    "df_prestige_admit2 = df_prestige2[['admit','prestige']]\n",
    "df_prestige_admit2.head()\n",
    "#Aggregate table for prestige 1, admit 1 and 0.\n",
    "df_prestige_admit_tab2 = pd.crosstab(index=df_prestige_admit2[\"prestige\"],columns=df_prestige_admit2[\"admit\"])     \n",
    "print (df_prestige_admit_tab2)\n",
    "\n",
    "#Prestige 3\n",
    "#Filter by prestige == 3.0\n",
    "df_prestige3 = df.loc[(df['prestige'] == 3.0) ]\n",
    "df_prestige3.head() \n",
    "#Filter only admit and prestige columns\n",
    "df_prestige_admit3 = df_prestige3[['admit','prestige']]\n",
    "df_prestige_admit3.head()\n",
    "#Aggregate table for prestige 1, admit 1 and 0.\n",
    "df_prestige_admit_tab3 = pd.crosstab(index=df_prestige_admit3[\"prestige\"],columns=df_prestige_admit3[\"admit\"])     \n",
    "print (df_prestige_admit_tab3)\n",
    "\n",
    "#Prestige 4\n",
    "#Filter by prestige == 4.0\n",
    "df_prestige4 = df.loc[(df['prestige'] == 4.0) ]\n",
    "df_prestige4.head() \n",
    "#Filter only admit and prestige columns\n",
    "df_prestige_admit4 = df_prestige4[['admit','prestige']]\n",
    "df_prestige_admit4.head()\n",
    "#Aggregate table for prestige 1, admit 1 and 0.\n",
    "df_prestige_admit_tab4 = pd.crosstab(index=df_prestige_admit4[\"prestige\"],columns=df_prestige_admit4[\"admit\"])     \n",
    "print (df_prestige_admit_tab4)"
   ]
  },
  {
   "cell_type": "code",
   "execution_count": 557,
   "metadata": {},
   "outputs": [
    {
     "name": "stdout",
     "output_type": "stream",
     "text": [
      "admit      0   1\n",
      "prestige        \n",
      "1.0       28  33\n",
      "4.0       55  12\n",
      "admit      1   0\n",
      "prestige        \n",
      "1.0       33  28\n",
      "4.0       12  55\n",
      "33\n",
      "12\n",
      "28\n",
      "55\n",
      "5.401785714285714\n"
     ]
    }
   ],
   "source": [
    "#Example - Filter prestige 1.0 and prestige 4.\n",
    "#Purpose to calculate the difference between prestige 1 and 4 students\n",
    "df_filtered = df.loc[ (df['prestige'] == 1.0) | (df['prestige'] == 4.0) ]\n",
    "#print(df_filtered)\n",
    "\n",
    "# Only interested on categorial variable - admit and prestige only\n",
    "# Hypothesis: Understand if the student from prestige 1 is more likely to be admited than prestige 4.\n",
    "df_filtered2 = df_filtered[['admit','prestige']]\n",
    "#print(df_filtered2)\n",
    "\n",
    "# Filter prestige & admit variables only in count\n",
    "df_OR_tab = pd.crosstab(index=df_filtered2[\"prestige\"],columns=df_filtered2[\"admit\"])\n",
    "print(df_OR_tab)\n",
    "\n",
    "#Swapped columns between admit 1 and admit 0\n",
    "df_OR_tab2 = df_OR_tab[[1,0]]\n",
    "print(df_OR_tab2)\n",
    "\n",
    "#Print out the values\n",
    "pres1_admit1 = df_OR_tab2.loc[1,1]\n",
    "pres4_admit1 = df_OR_tab2.loc[4,1]\n",
    "pres1_admit0 = df_OR_tab2.loc[1,0]\n",
    "pres4_admit0 = df_OR_tab2.loc[4,0]\n",
    "\n",
    "print(pres1_admit1)\n",
    "print(pres4_admit1)\n",
    "print(pres1_admit0)\n",
    "print(pres4_admit0)\n",
    "\n",
    "#Calculating Odd ratio from printed values\n",
    "Odd_ratio = (pres1_admit1 / pres4_admit1) / (pres1_admit0 / pres4_admit0)\n",
    "\n",
    "print (Odd_ratio)\n",
    "\n",
    "#Summary: Students from prestige 1 are 5 times more likely to admit compare to prestige 4."
   ]
  },
  {
   "cell_type": "markdown",
   "metadata": {},
   "source": [
    "#### 3.3 Calculate the odds ratio"
   ]
  },
  {
   "cell_type": "code",
   "execution_count": 126,
   "metadata": {},
   "outputs": [],
   "source": [
    "#Prestige2 admission:\n",
    "#Odd ratio = 53/(53+95) = 35.8%\n",
    "\n",
    "#Prestige3 admission:\n",
    "#Odd ratio = 28/(28+93) = 23.1%\n",
    "\n",
    "#Prestige4 admission:\n",
    "#Odd ratio = 12/(12+55) = 17.9%"
   ]
  },
  {
   "cell_type": "markdown",
   "metadata": {},
   "source": [
    "#### 3.4 Write this finding in a sentenance: "
   ]
  },
  {
   "cell_type": "markdown",
   "metadata": {},
   "source": [
    "Answer: The results shows students from prestige 4 are less likely to admit than student from prestige 1,2,3."
   ]
  },
  {
   "cell_type": "markdown",
   "metadata": {},
   "source": [
    "#### 3.5 Print the cross tab for prestige_4"
   ]
  },
  {
   "cell_type": "code",
   "execution_count": 127,
   "metadata": {},
   "outputs": [
    {
     "name": "stdout",
     "output_type": "stream",
     "text": [
      "admit      0   1\n",
      "prestige        \n",
      "4.0       55  12\n"
     ]
    }
   ],
   "source": [
    "print (df_prestige_admit_tab4)"
   ]
  },
  {
   "cell_type": "markdown",
   "metadata": {},
   "source": [
    "#### 3.6 Calculate the OR "
   ]
  },
  {
   "cell_type": "code",
   "execution_count": 129,
   "metadata": {},
   "outputs": [],
   "source": [
    "#Prestige4 admission:\n",
    "#Odd ratio = 12/(12+55) = 17.9%"
   ]
  },
  {
   "cell_type": "markdown",
   "metadata": {},
   "source": [
    "#### 3.7 Write this finding in a sentence"
   ]
  },
  {
   "cell_type": "markdown",
   "metadata": {},
   "source": [
    "Answer: The odd ratio for prestige 4 students is 17.9%. This signify that there's only 17.9% of the students from prestige 4 are more likely for admission, in comparison to odd ratio for prestige 1 of 54% admission rate. "
   ]
  },
  {
   "cell_type": "markdown",
   "metadata": {},
   "source": [
    "## Part 4. Analysis"
   ]
  },
  {
   "cell_type": "code",
   "execution_count": 184,
   "metadata": {},
   "outputs": [
    {
     "name": "stdout",
     "output_type": "stream",
     "text": [
      "   admit    gre   gpa  prestige_1.0  prestige_2.0  prestige_3.0  prestige_4.0\n",
      "0      0  380.0  3.61             0             0             1             0\n",
      "1      1  660.0  3.67             0             0             1             0\n",
      "2      1  800.0  4.00             1             0             0             0\n",
      "3      1  640.0  3.19             0             0             0             1\n",
      "4      0  520.0  2.93             0             0             0             1\n"
     ]
    }
   ],
   "source": [
    "# create a clean data frame for the regression\n",
    "cols_to_keep = ['admit', 'gre', 'gpa']\n",
    "data = df[cols_to_keep].join(dummy_ranks.ix[:, 'prestige_1':])\n",
    "print(data.head())"
   ]
  },
  {
   "cell_type": "markdown",
   "metadata": {},
   "source": [
    "We're going to add a constant term for our Logistic Regression. The statsmodels function we're going to be using requires that intercepts/constants are specified explicitly."
   ]
  },
  {
   "cell_type": "code",
   "execution_count": 185,
   "metadata": {},
   "outputs": [
    {
     "name": "stdout",
     "output_type": "stream",
     "text": [
      "   admit    gre   gpa  prestige_1.0  prestige_2.0  prestige_3.0  prestige_4.0  \\\n",
      "0      0  380.0  3.61             0             0             1             0   \n",
      "1      1  660.0  3.67             0             0             1             0   \n",
      "2      1  800.0  4.00             1             0             0             0   \n",
      "3      1  640.0  3.19             0             0             0             1   \n",
      "4      0  520.0  2.93             0             0             0             1   \n",
      "\n",
      "   intercept  \n",
      "0        1.0  \n",
      "1        1.0  \n",
      "2        1.0  \n",
      "3        1.0  \n",
      "4        1.0  \n"
     ]
    }
   ],
   "source": [
    "# manually add the intercept\n",
    "data['intercept'] = 1.0\n",
    "print(data.head())"
   ]
  },
  {
   "cell_type": "markdown",
   "metadata": {},
   "source": [
    "#### 4.1 Set the covariates to a variable called train_cols"
   ]
  },
  {
   "cell_type": "code",
   "execution_count": 314,
   "metadata": {},
   "outputs": [
    {
     "name": "stdout",
     "output_type": "stream",
     "text": [
      "Index(['gre', 'gpa', 'prestige_1.0', 'prestige_2.0', 'prestige_3.0',\n",
      "       'prestige_4.0', 'intercept'],\n",
      "      dtype='object')\n",
      "<statsmodels.discrete.discrete_model.Logit object at 0x000000000CD14358>\n"
     ]
    }
   ],
   "source": [
    "train_cols = data.columns[1:]\n",
    "print(data.columns[1:])\n",
    "\n",
    "#Logistic Regression\n",
    "logit = sm.Logit(data['admit'], data[train_cols])\n",
    "print(logit)"
   ]
  },
  {
   "cell_type": "markdown",
   "metadata": {},
   "source": [
    "#### 4.2 Fit the model"
   ]
  },
  {
   "cell_type": "code",
   "execution_count": 315,
   "metadata": {},
   "outputs": [
    {
     "name": "stdout",
     "output_type": "stream",
     "text": [
      "Optimization terminated successfully.\n",
      "         Current function value: 0.573854\n",
      "         Iterations 6\n"
     ]
    }
   ],
   "source": [
    "from scipy import stats\n",
    "stats.chisqprob = lambda chisq, df: stats.chi2.sf(chisq, df)\n",
    "\n",
    "# fit the model\n",
    "result = logit.fit()"
   ]
  },
  {
   "cell_type": "markdown",
   "metadata": {},
   "source": [
    "#### 4.3 Print the summary results"
   ]
  },
  {
   "cell_type": "code",
   "execution_count": 162,
   "metadata": {},
   "outputs": [
    {
     "name": "stdout",
     "output_type": "stream",
     "text": [
      "                           Logit Regression Results                           \n",
      "==============================================================================\n",
      "Dep. Variable:                  admit   No. Observations:                  397\n",
      "Model:                          Logit   Df Residuals:                      391\n",
      "Method:                           MLE   Df Model:                            5\n",
      "Date:                Sat, 28 Apr 2018   Pseudo R-squ.:                 0.08166\n",
      "Time:                        14:09:48   Log-Likelihood:                -227.82\n",
      "converged:                       True   LL-Null:                       -248.08\n",
      "                                        LLR p-value:                 1.176e-07\n",
      "================================================================================\n",
      "                   coef    std err          z      P>|z|      [0.025      0.975]\n",
      "--------------------------------------------------------------------------------\n",
      "gre              0.0022      0.001      2.028      0.043    7.44e-05       0.004\n",
      "gpa              0.7793      0.333      2.344      0.019       0.128       1.431\n",
      "prestige_1.0    -0.0609   9.18e+06  -6.64e-09      1.000    -1.8e+07     1.8e+07\n",
      "prestige_2.0    -0.7411   9.18e+06  -8.07e-08      1.000    -1.8e+07     1.8e+07\n",
      "prestige_3.0    -1.3996   9.18e+06  -1.52e-07      1.000    -1.8e+07     1.8e+07\n",
      "prestige_4.0    -1.6143   9.18e+06  -1.76e-07      1.000    -1.8e+07     1.8e+07\n",
      "intercept       -3.8159   9.18e+06  -4.16e-07      1.000    -1.8e+07     1.8e+07\n",
      "================================================================================\n"
     ]
    }
   ],
   "source": [
    "print (result.summary())"
   ]
  },
  {
   "cell_type": "code",
   "execution_count": null,
   "metadata": {},
   "outputs": [],
   "source": [
    "Summary: \n",
    "#There is an inverse relationship between the probability of being admitted and the prestige of a candidate in undergraduate school.\n",
    "#Hence, the probability of being accepted into program is highers for student who attended top ranked (prestige 1) as opposed to a lower rank school (prestige 2-4)"
   ]
  },
  {
   "cell_type": "code",
   "execution_count": 163,
   "metadata": {},
   "outputs": [
    {
     "name": "stdout",
     "output_type": "stream",
     "text": [
      "                         0             1\n",
      "gre           7.444681e-05  4.362360e-03\n",
      "gpa           1.276188e-01  1.431056e+00\n",
      "prestige_1.0 -1.798995e+07  1.798995e+07\n",
      "prestige_2.0 -1.798995e+07  1.798995e+07\n",
      "prestige_3.0 -1.798996e+07  1.798995e+07\n",
      "prestige_4.0 -1.798996e+07  1.798995e+07\n",
      "intercept    -1.798996e+07  1.798995e+07\n"
     ]
    }
   ],
   "source": [
    "print(result.conf_int())"
   ]
  },
  {
   "cell_type": "markdown",
   "metadata": {},
   "source": [
    "#### 4.4 Calculate the odds ratios of the coeffiencents and their 95% CI intervals\n",
    "\n",
    "hint 1: np.exp(X)\n",
    "\n",
    "hint 2: conf['OR'] = params\n",
    "        \n",
    "           conf.columns = ['2.5%', '97.5%', 'OR']"
   ]
  },
  {
   "cell_type": "code",
   "execution_count": 382,
   "metadata": {},
   "outputs": [
    {
     "data": {
      "text/plain": [
       "gre             1.002221\n",
       "gpa             2.180027\n",
       "prestige_1.0    0.940893\n",
       "prestige_2.0    0.476607\n",
       "prestige_3.0    0.246695\n",
       "prestige_4.0    0.199023\n",
       "intercept       0.022017\n",
       "dtype: float64"
      ]
     },
     "execution_count": 382,
     "metadata": {},
     "output_type": "execute_result"
    }
   ],
   "source": [
    "#Odd ratio breakdown\n",
    "np.exp(result.params)"
   ]
  },
  {
   "cell_type": "code",
   "execution_count": 383,
   "metadata": {},
   "outputs": [
    {
     "name": "stdout",
     "output_type": "stream",
     "text": [
      "                  2.5%     97.5%        OR\n",
      "gre           1.000074  1.004372  1.002221\n",
      "gpa           1.136120  4.183113  2.180027\n",
      "prestige_1.0  0.000000       inf  0.940893\n",
      "prestige_2.0  0.000000       inf  0.476607\n",
      "prestige_3.0  0.000000       inf  0.246695\n",
      "prestige_4.0  0.000000       inf  0.199023\n",
      "intercept     0.000000       inf  0.022017\n"
     ]
    },
    {
     "name": "stderr",
     "output_type": "stream",
     "text": [
      "C:\\ProgramData\\Anaconda3\\lib\\site-packages\\ipykernel_launcher.py:5: RuntimeWarning: overflow encountered in exp\n",
      "  \"\"\"\n"
     ]
    }
   ],
   "source": [
    "params = result.params\n",
    "conf = result.conf_int()\n",
    "conf['OR'] = params\n",
    "conf.columns = ['2.5%', '97.5%', 'OR']\n",
    "print(np.exp(conf))"
   ]
  },
  {
   "cell_type": "markdown",
   "metadata": {},
   "source": [
    "#### 4.5 Interpret the OR of Prestige_2"
   ]
  },
  {
   "cell_type": "markdown",
   "metadata": {},
   "source": [
    "Answer: \n",
    "Odd ratio for prestige 2: 0.477\n",
    "* The odd ratio is less than 1 means student from prestige 2 are less likely to admit than prestige 1(odd ratio: 0.94)"
   ]
  },
  {
   "cell_type": "markdown",
   "metadata": {},
   "source": [
    "#### 4.6 Interpret the OR of GPA"
   ]
  },
  {
   "cell_type": "markdown",
   "metadata": {},
   "source": [
    "Answer: \n",
    "Odd ratio for GPA: 2.18\n",
    "*The odd ratio > 1 indicate that student with higher GPA are 2.18 times more likely to admit than other variables. "
   ]
  },
  {
   "cell_type": "markdown",
   "metadata": {},
   "source": [
    "## Part 5: Predicted probablities\n"
   ]
  },
  {
   "cell_type": "markdown",
   "metadata": {},
   "source": [
    "As a way of evaluating our classifier, we're going to recreate the dataset with every logical combination of input values. This will allow us to see how the predicted probability of admission increases/decreases across different variables. First we're going to generate the combinations using a helper function called cartesian (above).\n",
    "\n",
    "We're going to use np.linspace to create a range of values for \"gre\" and \"gpa\". This creates a range of linearly spaced values from a specified min and maximum value--in our case just the min/max observed values."
   ]
  },
  {
   "cell_type": "code",
   "execution_count": 410,
   "metadata": {},
   "outputs": [],
   "source": [
    "def cartesian(arrays, out=None):\n",
    "    \"\"\"\n",
    "    Generate a cartesian product of input arrays.\n",
    "    Parameters\n",
    "    ----------\n",
    "    arrays : list of array-like\n",
    "        1-D arrays to form the cartesian product of.\n",
    "    out : ndarray\n",
    "        Array to place the cartesian product in.\n",
    "    Returns\n",
    "    -------\n",
    "    out : ndarray\n",
    "        2-D array of shape (M, len(arrays)) containing cartesian products\n",
    "        formed of input arrays.\n",
    "    Examples\n",
    "    --------\n",
    "    >>> cartesian(([1, 2, 3], [4, 5], [6, 7]))\n",
    "    array([[1, 4, 6],\n",
    "           [1, 4, 7],\n",
    "           [1, 5, 6],\n",
    "           [1, 5, 7],\n",
    "           [2, 4, 6],\n",
    "           [2, 4, 7],\n",
    "           [2, 5, 6],\n",
    "           [2, 5, 7],\n",
    "           [3, 4, 6],\n",
    "           [3, 4, 7],\n",
    "           [3, 5, 6],\n",
    "           [3, 5, 7]])\n",
    "    \"\"\"\n",
    "\n",
    "    arrays = [np.asarray(x) for x in arrays]\n",
    "    dtype = arrays[0].dtype\n",
    "\n",
    "    n = np.prod([x.size for x in arrays])\n",
    "    if out is None:\n",
    "        out = np.zeros([n, len(arrays)], dtype=dtype)\n",
    "\n",
    "    m = n / arrays[0].size\n",
    "    m = int(m)\n",
    "    out[:,0] = np.repeat(arrays[0], m)\n",
    "    if arrays[1:]:\n",
    "        cartesian(arrays[1:], out=out[0:m,1:])\n",
    "        for j in range(1, arrays[0].size):\n",
    "            out[j*m:(j+1)*m,1:] = out[0:m,1:]\n",
    "    return out\n",
    "\n",
    "#amended xrange(python 2) to range (python 3)\n",
    "#add m = int(m), changing to integer"
   ]
  },
  {
   "cell_type": "code",
   "execution_count": 501,
   "metadata": {},
   "outputs": [
    {
     "name": "stdout",
     "output_type": "stream",
     "text": [
      "[220.         284.44444444 348.88888889 413.33333333 477.77777778\n",
      " 542.22222222 606.66666667 671.11111111 735.55555556 800.        ]\n",
      "[2.26       2.45333333 2.64666667 2.84       3.03333333 3.22666667\n",
      " 3.42       3.61333333 3.80666667 4.        ]\n",
      "       0         1    2    3\n",
      "0  220.0  2.260000  1.0  1.0\n",
      "1  220.0  2.260000  2.0  1.0\n",
      "2  220.0  2.260000  3.0  1.0\n",
      "3  220.0  2.260000  4.0  1.0\n",
      "4  220.0  2.453333  1.0  1.0\n",
      "5  220.0  2.453333  2.0  1.0\n",
      "6  220.0  2.453333  3.0  1.0\n",
      "7  220.0  2.453333  4.0  1.0\n",
      "8  220.0  2.646667  1.0  1.0\n",
      "9  220.0  2.646667  2.0  1.0\n"
     ]
    }
   ],
   "source": [
    "# instead of generating all possible values of GRE and GPA, we're going\n",
    "# to use an evenly spaced range of 10 values from the min to the max \n",
    "gres = np.linspace(data['gre'].min(), data['gre'].max(), 10)\n",
    "print(gres)\n",
    "# array([ 220.        ,  284.44444444,  348.88888889,  413.33333333,\n",
    "#         477.77777778,  542.22222222,  606.66666667,  671.11111111,\n",
    "#         735.55555556,  800.        ])\n",
    "gpas = np.linspace(data['gpa'].min(), data['gpa'].max(), 10)\n",
    "print(gpas)\n",
    "# array([ 2.26      ,  2.45333333,  2.64666667,  2.84      ,  3.03333333,\n",
    "#         3.22666667,  3.42      ,  3.61333333,  3.80666667,  4.        ])\n",
    "\n",
    "\n",
    "# enumerate all possibilities\n",
    "model = pd.DataFrame(cartesian([gres, gpas, [1, 2, 3, 4], [1.]]))\n",
    "print(model.head(10))"
   ]
  },
  {
   "cell_type": "markdown",
   "metadata": {},
   "source": [
    "#### 5.1 Recreate the dummy variables"
   ]
  },
  {
   "cell_type": "code",
   "execution_count": 502,
   "metadata": {},
   "outputs": [
    {
     "name": "stdout",
     "output_type": "stream",
     "text": [
      "   prestige_1.0  prestige_2.0  prestige_3.0  prestige_4.0\n",
      "0             1             0             0             0\n",
      "1             0             1             0             0\n",
      "2             0             0             1             0\n",
      "3             0             0             0             1\n",
      "4             1             0             0             0\n",
      "      gre       gpa  prestige  intercept  prestige_1.0  prestige_2.0  \\\n",
      "0   220.0  2.260000       1.0        1.0             1             0   \n",
      "1   220.0  2.260000       2.0        1.0             0             1   \n",
      "2   220.0  2.260000       3.0        1.0             0             0   \n",
      "3   220.0  2.260000       4.0        1.0             0             0   \n",
      "4   220.0  2.453333       1.0        1.0             1             0   \n",
      "5   220.0  2.453333       2.0        1.0             0             1   \n",
      "6   220.0  2.453333       3.0        1.0             0             0   \n",
      "7   220.0  2.453333       4.0        1.0             0             0   \n",
      "8   220.0  2.646667       1.0        1.0             1             0   \n",
      "9   220.0  2.646667       2.0        1.0             0             1   \n",
      "10  220.0  2.646667       3.0        1.0             0             0   \n",
      "11  220.0  2.646667       4.0        1.0             0             0   \n",
      "12  220.0  2.840000       1.0        1.0             1             0   \n",
      "13  220.0  2.840000       2.0        1.0             0             1   \n",
      "14  220.0  2.840000       3.0        1.0             0             0   \n",
      "15  220.0  2.840000       4.0        1.0             0             0   \n",
      "16  220.0  3.033333       1.0        1.0             1             0   \n",
      "17  220.0  3.033333       2.0        1.0             0             1   \n",
      "18  220.0  3.033333       3.0        1.0             0             0   \n",
      "19  220.0  3.033333       4.0        1.0             0             0   \n",
      "\n",
      "    prestige_3.0  prestige_4.0  \n",
      "0              0             0  \n",
      "1              0             0  \n",
      "2              1             0  \n",
      "3              0             1  \n",
      "4              0             0  \n",
      "5              0             0  \n",
      "6              1             0  \n",
      "7              0             1  \n",
      "8              0             0  \n",
      "9              0             0  \n",
      "10             1             0  \n",
      "11             0             1  \n",
      "12             0             0  \n",
      "13             0             0  \n",
      "14             1             0  \n",
      "15             0             1  \n",
      "16             0             0  \n",
      "17             0             0  \n",
      "18             1             0  \n",
      "19             0             1  \n",
      "['gre', 'gpa', 'prestige', 'intercept', 'prestige_1.0', 'prestige_2.0', 'prestige_3.0', 'prestige_4.0']\n",
      "['prestige_1.0', 'prestige_2.0', 'prestige_3.0', 'prestige_4.0']\n"
     ]
    },
    {
     "name": "stderr",
     "output_type": "stream",
     "text": [
      "C:\\ProgramData\\Anaconda3\\lib\\site-packages\\ipykernel_launcher.py:9: DeprecationWarning: \n",
      ".ix is deprecated. Please use\n",
      ".loc for label based indexing or\n",
      ".iloc for positional indexing\n",
      "\n",
      "See the documentation here:\n",
      "http://pandas.pydata.org/pandas-docs/stable/indexing.html#ix-indexer-is-deprecated\n",
      "  if __name__ == '__main__':\n"
     ]
    }
   ],
   "source": [
    "# recreate the dummy variables\n",
    "model.columns = ['gre', 'gpa', 'prestige', 'intercept']\n",
    "dummy_ranks = pd.get_dummies(model['prestige'], prefix='prestige')\n",
    "dummy_ranks.columns = ['prestige_1.0', 'prestige_2.0', 'prestige_3.0', 'prestige_4.0']\n",
    "print(dummy_ranks.head())\n",
    "\n",
    "# keep only what we need for making predictions\n",
    "cols_to_keep = ['gre', 'gpa', 'prestige', 'intercept']\n",
    "model = model[cols_to_keep].join(dummy_ranks.ix[:, 'prestige_1.0':])\n",
    "print(model.head(20))\n",
    "\n",
    "print (model.columns.tolist())\n",
    "print (dummy_ranks.columns.tolist())\n",
    "\n"
   ]
  },
  {
   "cell_type": "markdown",
   "metadata": {},
   "source": [
    "#### 5.2 Make predictions on the enumerated dataset"
   ]
  },
  {
   "cell_type": "code",
   "execution_count": 496,
   "metadata": {},
   "outputs": [
    {
     "name": "stdout",
     "output_type": "stream",
     "text": [
      "     gre       gpa  prestige  intercept  prestige_1.0  prestige_2.0  \\\n",
      "0  220.0  2.260000       1.0        1.0             1             0   \n",
      "1  220.0  2.260000       2.0        1.0             0             1   \n",
      "2  220.0  2.260000       3.0        1.0             0             0   \n",
      "3  220.0  2.260000       4.0        1.0             0             0   \n",
      "4  220.0  2.453333       1.0        1.0             1             0   \n",
      "\n",
      "   prestige_3.0  prestige_4.0  admit_pred  \n",
      "0             0             0    0.164173  \n",
      "1             0             0    0.090492  \n",
      "2             1             0    0.048977  \n",
      "3             0             1    0.039890  \n",
      "4             0             0    0.185907  \n",
      "       gre       gpa  prestige  intercept  prestige_1.0  prestige_2.0  \\\n",
      "395  800.0  3.806667       4.0        1.0             0             0   \n",
      "396  800.0  4.000000       1.0        1.0             1             0   \n",
      "397  800.0  4.000000       2.0        1.0             0             1   \n",
      "398  800.0  4.000000       3.0        1.0             0             0   \n",
      "399  800.0  4.000000       4.0        1.0             0             0   \n",
      "\n",
      "     prestige_3.0  prestige_4.0  admit_pred  \n",
      "395             0             1    0.334286  \n",
      "396             0             0    0.734040  \n",
      "397             0             0    0.582995  \n",
      "398             1             0    0.419833  \n",
      "399             0             1    0.368608  \n"
     ]
    },
    {
     "data": {
      "text/plain": [
       "400"
      ]
     },
     "execution_count": 496,
     "metadata": {},
     "output_type": "execute_result"
    }
   ],
   "source": [
    "# make predictions on the enumerated dataset\n",
    "combos['admit_pred'] = result.predict(combos[train_cols])\n",
    "print(combos.head())\n",
    "print(combos.tail())\n",
    "len(combos)"
   ]
  },
  {
   "cell_type": "markdown",
   "metadata": {},
   "source": [
    "#### 5.3 Interpret findings for the last 4 observations"
   ]
  },
  {
   "cell_type": "markdown",
   "metadata": {},
   "source": [
    "Answer: \n",
    "- Worth noting that the probability of admission gradually increases as gre and gpa increases. \n",
    "- The different prestige levels yield drastic probabilities of admission particularly the most(prestige_1)/least(prestige_3 & Prestige_4) pretigious schools. "
   ]
  },
  {
   "cell_type": "markdown",
   "metadata": {},
   "source": [
    "## Bonus\n",
    "\n",
    "Plot the probability of being admitted into graduate school, stratified by GPA and GRE score."
   ]
  },
  {
   "cell_type": "code",
   "execution_count": 508,
   "metadata": {},
   "outputs": [
    {
     "name": "stdout",
     "output_type": "stream",
     "text": [
      "                     admit_pred\n",
      "gre        prestige            \n",
      "220.000000 1.0         0.287000\n",
      "           2.0         0.172354\n",
      "           3.0         0.098493\n",
      "           4.0         0.081236\n",
      "284.444444 1.0         0.315963\n"
     ]
    },
    {
     "name": "stderr",
     "output_type": "stream",
     "text": [
      "C:\\ProgramData\\Anaconda3\\lib\\site-packages\\ipykernel_launcher.py:19: DeprecationWarning: \n",
      ".ix is deprecated. Please use\n",
      ".loc for label based indexing or\n",
      ".iloc for positional indexing\n",
      "\n",
      "See the documentation here:\n",
      "http://pandas.pydata.org/pandas-docs/stable/indexing.html#ix-indexer-is-deprecated\n"
     ]
    },
    {
     "data": {
      "image/png": "[encoded data removed]",
      "text/plain": [
       "<matplotlib.figure.Figure at 0xcb4be10>"
      ]
     },
     "metadata": {},
     "output_type": "display_data"
    },
    {
     "name": "stdout",
     "output_type": "stream",
     "text": [
      "                   admit_pred\n",
      "gpa      prestige            \n",
      "2.260000 1.0         0.279423\n",
      "         2.0         0.166760\n",
      "         3.0         0.094879\n",
      "         4.0         0.078172\n",
      "2.453333 1.0         0.309664\n"
     ]
    },
    {
     "data": {
      "image/png": "[encoded data removed]",
      "text/plain": [
       "<matplotlib.figure.Figure at 0xca2dcc0>"
      ]
     },
     "metadata": {},
     "output_type": "display_data"
    }
   ],
   "source": [
    "def isolate_and_plot(variable):\n",
    "    # isolate gre and class rank\n",
    "    grouped = pd.pivot_table(combos, values=['admit_pred'], index=[variable, 'prestige'],\n",
    "                            aggfunc=np.mean)\n",
    "    \n",
    "    print(grouped.head())\n",
    "   \n",
    "    # make a plot    \n",
    "    colors = 'rbgyrbgy'\n",
    "    for col in combos.prestige.unique():\n",
    "        plt_data = grouped.ix[grouped.index.get_level_values(1)==col]\n",
    "        pl.plot(plt_data.index.get_level_values(0), plt_data['admit_pred'],\n",
    "                color=colors[int(col)])\n",
    "\n",
    "    pl.xlabel(variable)\n",
    "    pl.ylabel(\"P(admit=1)\")\n",
    "    pl.legend(['1', '2', '3', '4'], loc='upper left', title='Prestige')\n",
    "    pl.title(\"Prob(admit=1) isolating \" + variable + \" and presitge\")\n",
    "    pl.show()\n",
    "\n",
    "isolate_and_plot('gre')\n",
    "isolate_and_plot('gpa')\n"
   ]
  },
  {
   "cell_type": "code",
   "execution_count": null,
   "metadata": {},
   "outputs": [],
   "source": []
  }
 ],
 "metadata": {
  "kernelspec": {
   "display_name": "Python 3",
   "language": "python",
   "name": "python3"
  },
  "language_info": {
   "codemirror_mode": {
    "name": "ipython",
    "version": 3
   },
   "file_extension": ".py",
   "mimetype": "text/x-python",
   "name": "python",
   "nbconvert_exporter": "python",
   "pygments_lexer": "ipython3",
   "version": "3.6.4"
  }
 },
 "nbformat": 4,
 "nbformat_minor": 1
}
